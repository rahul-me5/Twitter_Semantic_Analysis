{
 "cells": [
  {
   "cell_type": "code",
   "execution_count": 6,
   "id": "afebcbe5",
   "metadata": {
    "ExecuteTime": {
     "end_time": "2023-09-10T20:45:51.336238Z",
     "start_time": "2023-09-10T20:45:51.312343Z"
    }
   },
   "outputs": [],
   "source": [
    "#Importing libraries\n",
    "import pandas as pd\n",
    "import numpy as np\n",
    "import seaborn as sns\n",
    "import matplotlib.pyplot as plt\n",
    "\n",
    "from sklearn.preprocessing import LabelEncoder\n",
    "from sklearn.model_selection import train_test_split\n",
    "from sklearn.feature_extraction.text import TfidfVectorizer\n",
    "from sklearn.preprocessing import LabelEncoder\n",
    "from sklearn.metrics import accuracy_score\n",
    "from sklearn.naive_bayes import GaussianNB"
   ]
  },
  {
   "cell_type": "code",
   "execution_count": 24,
   "id": "0163f373",
   "metadata": {
    "ExecuteTime": {
     "end_time": "2023-09-10T20:49:53.036377Z",
     "start_time": "2023-09-10T20:49:52.450899Z"
    }
   },
   "outputs": [],
   "source": [
    "excel_file_path = r'C:\\Users\\Rahul\\Desktop\\DS_Project\\sample_tweet_data.xlsx'\n",
    "df = pd.read_excel(excel_file_path)"
   ]
  },
  {
   "cell_type": "code",
   "execution_count": 9,
   "id": "edf614ab",
   "metadata": {
    "ExecuteTime": {
     "end_time": "2023-09-10T20:46:06.018709Z",
     "start_time": "2023-09-10T20:46:05.997411Z"
    }
   },
   "outputs": [],
   "source": [
    "#df=df.drop('Unnamed: 0',axis=1)"
   ]
  },
  {
   "cell_type": "code",
   "execution_count": 25,
   "id": "712bfd45",
   "metadata": {
    "ExecuteTime": {
     "end_time": "2023-09-10T20:49:55.750906Z",
     "start_time": "2023-09-10T20:49:55.738542Z"
    }
   },
   "outputs": [
    {
     "data": {
      "text/html": [
       "<div>\n",
       "<style scoped>\n",
       "    .dataframe tbody tr th:only-of-type {\n",
       "        vertical-align: middle;\n",
       "    }\n",
       "\n",
       "    .dataframe tbody tr th {\n",
       "        vertical-align: top;\n",
       "    }\n",
       "\n",
       "    .dataframe thead th {\n",
       "        text-align: right;\n",
       "    }\n",
       "</style>\n",
       "<table border=\"1\" class=\"dataframe\">\n",
       "  <thead>\n",
       "    <tr style=\"text-align: right;\">\n",
       "      <th></th>\n",
       "      <th>tweets</th>\n",
       "      <th>class</th>\n",
       "      <th>cleaned_tweets</th>\n",
       "    </tr>\n",
       "  </thead>\n",
       "  <tbody>\n",
       "    <tr>\n",
       "      <th>0</th>\n",
       "      <td>@Arctic_Warlocks @mttgcast I find this so hila...</td>\n",
       "      <td>figurative</td>\n",
       "      <td>['find', 'hilarious', 'much', 'talk', 'underst...</td>\n",
       "    </tr>\n",
       "    <tr>\n",
       "      <th>1</th>\n",
       "      <td>@TannerStewart95 very true. Gosh I just can't ...</td>\n",
       "      <td>sarcasm</td>\n",
       "      <td>['true', 'gosh', 'cannot', 'wait', 'sarcastic']</td>\n",
       "    </tr>\n",
       "    <tr>\n",
       "      <th>2</th>\n",
       "      <td>Becky is saying I think I can I think I can I ...</td>\n",
       "      <td>irony</td>\n",
       "      <td>['becky', 'saying', 'think', 'think', 'think',...</td>\n",
       "    </tr>\n",
       "    <tr>\n",
       "      <th>3</th>\n",
       "      <td>Jared Fogle's dramatic weight loss from Subway...</td>\n",
       "      <td>sarcasm</td>\n",
       "      <td>['jared', 'fogles', 'dramatic', 'weight', 'los...</td>\n",
       "    </tr>\n",
       "    <tr>\n",
       "      <th>4</th>\n",
       "      <td>Oh how I love it when customers throw their mo...</td>\n",
       "      <td>figurative</td>\n",
       "      <td>['oh', 'love', 'customers', 'throw', 'money', ...</td>\n",
       "    </tr>\n",
       "  </tbody>\n",
       "</table>\n",
       "</div>"
      ],
      "text/plain": [
       "                                              tweets       class  \\\n",
       "0  @Arctic_Warlocks @mttgcast I find this so hila...  figurative   \n",
       "1  @TannerStewart95 very true. Gosh I just can't ...     sarcasm   \n",
       "2  Becky is saying I think I can I think I can I ...       irony   \n",
       "3  Jared Fogle's dramatic weight loss from Subway...     sarcasm   \n",
       "4  Oh how I love it when customers throw their mo...  figurative   \n",
       "\n",
       "                                      cleaned_tweets  \n",
       "0  ['find', 'hilarious', 'much', 'talk', 'underst...  \n",
       "1    ['true', 'gosh', 'cannot', 'wait', 'sarcastic']  \n",
       "2  ['becky', 'saying', 'think', 'think', 'think',...  \n",
       "3  ['jared', 'fogles', 'dramatic', 'weight', 'los...  \n",
       "4  ['oh', 'love', 'customers', 'throw', 'money', ...  "
      ]
     },
     "execution_count": 25,
     "metadata": {},
     "output_type": "execute_result"
    }
   ],
   "source": [
    "df.head()"
   ]
  },
  {
   "cell_type": "code",
   "execution_count": 26,
   "id": "8cee3ac6",
   "metadata": {
    "ExecuteTime": {
     "end_time": "2023-09-10T20:50:00.506831Z",
     "start_time": "2023-09-10T20:50:00.493314Z"
    }
   },
   "outputs": [
    {
     "data": {
      "text/plain": [
       "irony         2626\n",
       "figurative    2580\n",
       "sarcasm       2549\n",
       "regular       2245\n",
       "Name: class, dtype: int64"
      ]
     },
     "execution_count": 26,
     "metadata": {},
     "output_type": "execute_result"
    }
   ],
   "source": [
    "class_count=df['class'].value_counts()\n",
    "class_count"
   ]
  },
  {
   "cell_type": "code",
   "execution_count": 27,
   "id": "f1f207b0",
   "metadata": {
    "ExecuteTime": {
     "end_time": "2023-09-10T20:50:04.740597Z",
     "start_time": "2023-09-10T20:50:04.716738Z"
    }
   },
   "outputs": [],
   "source": [
    "# Converting figurative class into irony or sarcasm baesd on similiarty\n",
    "figurative_df = df[df['class'] == 'figurative']\n",
    "other_df = df[df['class'] != 'figurative']\n"
   ]
  },
  {
   "cell_type": "code",
   "execution_count": 28,
   "id": "892caf61",
   "metadata": {
    "ExecuteTime": {
     "end_time": "2023-09-10T20:50:13.790041Z",
     "start_time": "2023-09-10T20:50:09.444180Z"
    }
   },
   "outputs": [],
   "source": [
    "# Calculate TF-IDF vectors\n",
    "from sklearn.metrics.pairwise import cosine_similarity\n",
    "tfidf_vectorizer = TfidfVectorizer()\n",
    "tfidf_matrix = tfidf_vectorizer.fit_transform(df['cleaned_tweets'])\n",
    "\n",
    "# Calculate cosine similarity\n",
    "similarity_matrix = cosine_similarity(tfidf_matrix)\n",
    "\n",
    "# Iterate through figurative samples\n",
    "for idx, row in figurative_df.iterrows():\n",
    "    similarities = similarity_matrix[idx]\n",
    "    sarcasm_similarity = similarities[other_df[other_df['class'] == 'sarcasm'].index]\n",
    "    irony_similarity = similarities[other_df[other_df['class'] == 'irony'].index]\n",
    "    \n",
    "    if sarcasm_similarity.max() > irony_similarity.max():\n",
    "        df.at[idx, 'class'] = 'sarcasm'\n",
    "    else:\n",
    "        df.at[idx, 'class'] = 'irony'"
   ]
  },
  {
   "cell_type": "code",
   "execution_count": 29,
   "id": "87660444",
   "metadata": {
    "ExecuteTime": {
     "end_time": "2023-09-10T20:50:17.767722Z",
     "start_time": "2023-09-10T20:50:17.752104Z"
    }
   },
   "outputs": [
    {
     "data": {
      "text/html": [
       "<div>\n",
       "<style scoped>\n",
       "    .dataframe tbody tr th:only-of-type {\n",
       "        vertical-align: middle;\n",
       "    }\n",
       "\n",
       "    .dataframe tbody tr th {\n",
       "        vertical-align: top;\n",
       "    }\n",
       "\n",
       "    .dataframe thead th {\n",
       "        text-align: right;\n",
       "    }\n",
       "</style>\n",
       "<table border=\"1\" class=\"dataframe\">\n",
       "  <thead>\n",
       "    <tr style=\"text-align: right;\">\n",
       "      <th></th>\n",
       "      <th>tweets</th>\n",
       "      <th>class</th>\n",
       "      <th>cleaned_tweets</th>\n",
       "    </tr>\n",
       "  </thead>\n",
       "  <tbody>\n",
       "    <tr>\n",
       "      <th>0</th>\n",
       "      <td>@Arctic_Warlocks @mttgcast I find this so hila...</td>\n",
       "      <td>irony</td>\n",
       "      <td>['find', 'hilarious', 'much', 'talk', 'underst...</td>\n",
       "    </tr>\n",
       "    <tr>\n",
       "      <th>1</th>\n",
       "      <td>@TannerStewart95 very true. Gosh I just can't ...</td>\n",
       "      <td>sarcasm</td>\n",
       "      <td>['true', 'gosh', 'cannot', 'wait', 'sarcastic']</td>\n",
       "    </tr>\n",
       "    <tr>\n",
       "      <th>2</th>\n",
       "      <td>Becky is saying I think I can I think I can I ...</td>\n",
       "      <td>irony</td>\n",
       "      <td>['becky', 'saying', 'think', 'think', 'think',...</td>\n",
       "    </tr>\n",
       "    <tr>\n",
       "      <th>3</th>\n",
       "      <td>Jared Fogle's dramatic weight loss from Subway...</td>\n",
       "      <td>sarcasm</td>\n",
       "      <td>['jared', 'fogles', 'dramatic', 'weight', 'los...</td>\n",
       "    </tr>\n",
       "    <tr>\n",
       "      <th>4</th>\n",
       "      <td>Oh how I love it when customers throw their mo...</td>\n",
       "      <td>sarcasm</td>\n",
       "      <td>['oh', 'love', 'customers', 'throw', 'money', ...</td>\n",
       "    </tr>\n",
       "  </tbody>\n",
       "</table>\n",
       "</div>"
      ],
      "text/plain": [
       "                                              tweets    class  \\\n",
       "0  @Arctic_Warlocks @mttgcast I find this so hila...    irony   \n",
       "1  @TannerStewart95 very true. Gosh I just can't ...  sarcasm   \n",
       "2  Becky is saying I think I can I think I can I ...    irony   \n",
       "3  Jared Fogle's dramatic weight loss from Subway...  sarcasm   \n",
       "4  Oh how I love it when customers throw their mo...  sarcasm   \n",
       "\n",
       "                                      cleaned_tweets  \n",
       "0  ['find', 'hilarious', 'much', 'talk', 'underst...  \n",
       "1    ['true', 'gosh', 'cannot', 'wait', 'sarcastic']  \n",
       "2  ['becky', 'saying', 'think', 'think', 'think',...  \n",
       "3  ['jared', 'fogles', 'dramatic', 'weight', 'los...  \n",
       "4  ['oh', 'love', 'customers', 'throw', 'money', ...  "
      ]
     },
     "execution_count": 29,
     "metadata": {},
     "output_type": "execute_result"
    }
   ],
   "source": [
    "df.head()"
   ]
  },
  {
   "cell_type": "code",
   "execution_count": 30,
   "id": "a7b323c3",
   "metadata": {
    "ExecuteTime": {
     "end_time": "2023-09-10T20:50:34.310498Z",
     "start_time": "2023-09-10T20:50:31.848386Z"
    }
   },
   "outputs": [
    {
     "name": "stdout",
     "output_type": "stream",
     "text": [
      "updated df saved to 'C:/Users/Rahul/Desktop/DS_Project/sample_tweet_data.xlsx' in a new sheet named '3classdata'\n"
     ]
    }
   ],
   "source": [
    "import openpyxl\n",
    "excel_file_path = r'C:/Users/Rahul/Desktop/DS_Project/sample_tweet_data.xlsx'\n",
    "book = openpyxl.load_workbook(excel_file_path)\n",
    "\n",
    "with pd.ExcelWriter(excel_file_path, engine='openpyxl') as writer:\n",
    "    writer.book = book\n",
    "    writer.sheets = dict((ws.title, ws) for ws in book.worksheets)\n",
    "    df.to_excel(writer, sheet_name='3classdata', index=False)\n",
    "\n",
    "    writer.save()\n",
    "\n",
    "print(f\"updated df saved to '{excel_file_path}' in a new sheet named '3classdata'\")"
   ]
  },
  {
   "cell_type": "code",
   "execution_count": 31,
   "id": "9a48381a",
   "metadata": {
    "ExecuteTime": {
     "end_time": "2023-09-10T20:50:38.592761Z",
     "start_time": "2023-09-10T20:50:38.575118Z"
    }
   },
   "outputs": [
    {
     "data": {
      "text/plain": [
       "sarcasm    3988\n",
       "irony      3767\n",
       "regular    2245\n",
       "Name: class, dtype: int64"
      ]
     },
     "execution_count": 31,
     "metadata": {},
     "output_type": "execute_result"
    }
   ],
   "source": [
    "updated_class_count=df['class'].value_counts()\n",
    "updated_class_count"
   ]
  },
  {
   "cell_type": "code",
   "execution_count": 32,
   "id": "983d5449",
   "metadata": {
    "ExecuteTime": {
     "end_time": "2023-09-10T20:50:44.131612Z",
     "start_time": "2023-09-10T20:50:44.115040Z"
    }
   },
   "outputs": [],
   "source": [
    "label_encoder=LabelEncoder()\n",
    "df['class']=label_encoder.fit_transform(df['class'])"
   ]
  },
  {
   "cell_type": "code",
   "execution_count": 33,
   "id": "515876cb",
   "metadata": {
    "ExecuteTime": {
     "end_time": "2023-09-10T20:50:49.496571Z",
     "start_time": "2023-09-10T20:50:49.488541Z"
    }
   },
   "outputs": [
    {
     "data": {
      "text/plain": [
       "2    3988\n",
       "0    3767\n",
       "1    2245\n",
       "Name: class, dtype: int64"
      ]
     },
     "execution_count": 33,
     "metadata": {},
     "output_type": "execute_result"
    }
   ],
   "source": [
    "updated_class_count1=df['class'].value_counts()\n",
    "updated_class_count1"
   ]
  },
  {
   "cell_type": "markdown",
   "id": "041c477a",
   "metadata": {},
   "source": [
    "#### Label Coders\n",
    "     Irony encoded as 0\n",
    "     regular encoded as 1\n",
    "     sarcasm encoded as 2\n"
   ]
  },
  {
   "cell_type": "code",
   "execution_count": 34,
   "id": "b106586c",
   "metadata": {
    "ExecuteTime": {
     "end_time": "2023-09-10T20:51:07.266592Z",
     "start_time": "2023-09-10T20:51:07.250575Z"
    }
   },
   "outputs": [],
   "source": [
    "y=df['class']"
   ]
  },
  {
   "cell_type": "code",
   "execution_count": 35,
   "id": "c25fce1c",
   "metadata": {
    "ExecuteTime": {
     "end_time": "2023-09-10T20:52:43.000858Z",
     "start_time": "2023-09-10T20:52:42.864729Z"
    }
   },
   "outputs": [],
   "source": [
    "# Initialize TfidfVectorizer\n",
    "tfidf_vectorizer=TfidfVectorizer(stop_words=None)\n",
    "X_tfidf=tfidf_vectorizer.fit_transform(df['cleaned_tweets'])\n",
    "X_train, X_test, y_train, y_test = train_test_split(X_tfidf, y, test_size=0.2, random_state=42)"
   ]
  },
  {
   "cell_type": "markdown",
   "id": "667a7963",
   "metadata": {},
   "source": [
    "#### Class count in test data"
   ]
  },
  {
   "cell_type": "code",
   "execution_count": 36,
   "id": "c25923c9",
   "metadata": {
    "ExecuteTime": {
     "end_time": "2023-09-10T20:53:02.917893Z",
     "start_time": "2023-09-10T20:53:02.902285Z"
    }
   },
   "outputs": [
    {
     "name": "stdout",
     "output_type": "stream",
     "text": [
      "Class 0: 748 instances\n",
      "Class 1: 464 instances\n",
      "Class 2: 788 instances\n"
     ]
    }
   ],
   "source": [
    "# Calculate the class counts in the test set\n",
    "class_counts_test = dict(zip(*np.unique(y_test, return_counts=True)))\n",
    "\n",
    "# Print the class counts in the test set\n",
    "for class_label, count in class_counts_test.items():\n",
    "    print(f\"Class {class_label}: {count} instances\")"
   ]
  },
  {
   "cell_type": "code",
   "execution_count": 37,
   "id": "0bb1c42a",
   "metadata": {
    "ExecuteTime": {
     "end_time": "2023-09-10T20:53:27.858549Z",
     "start_time": "2023-09-10T20:53:10.538134Z"
    }
   },
   "outputs": [],
   "source": [
    "from sklearn.linear_model import LogisticRegression\n",
    "le=LogisticRegression()\n",
    "le.fit(X_train.toarray(),y_train)\n",
    "le_ypred=le.predict(X_test.toarray())"
   ]
  },
  {
   "cell_type": "code",
   "execution_count": 38,
   "id": "54618e48",
   "metadata": {
    "ExecuteTime": {
     "end_time": "2023-09-10T20:53:31.995409Z",
     "start_time": "2023-09-10T20:53:31.964133Z"
    }
   },
   "outputs": [
    {
     "name": "stdout",
     "output_type": "stream",
     "text": [
      "Accuracy: 0.9215\n"
     ]
    }
   ],
   "source": [
    "# Calculate accuracy\n",
    "accuracy = accuracy_score(y_test, le_ypred)\n",
    "print(\"Accuracy:\", accuracy)"
   ]
  },
  {
   "cell_type": "code",
   "execution_count": 39,
   "id": "e5591d95",
   "metadata": {
    "ExecuteTime": {
     "end_time": "2023-09-10T20:53:48.061140Z",
     "start_time": "2023-09-10T20:53:48.029048Z"
    }
   },
   "outputs": [
    {
     "name": "stdout",
     "output_type": "stream",
     "text": [
      "Classification_report:\n",
      "               precision    recall  f1-score   support\n",
      "\n",
      "           0       0.89      0.91      0.90       748\n",
      "           1       0.99      1.00      1.00       464\n",
      "           2       0.91      0.89      0.90       788\n",
      "\n",
      "    accuracy                           0.92      2000\n",
      "   macro avg       0.93      0.93      0.93      2000\n",
      "weighted avg       0.92      0.92      0.92      2000\n",
      "\n",
      "Confusion_Matrix:\n",
      " [[680   2  66]\n",
      " [  0 464   0]\n",
      " [ 87   2 699]]\n"
     ]
    }
   ],
   "source": [
    "from sklearn.metrics import classification_report,confusion_matrix\n",
    "print('Classification_report:\\n',classification_report(y_test, le_ypred))\n",
    "print('Confusion_Matrix:\\n',confusion_matrix(y_test, le_ypred))"
   ]
  },
  {
   "cell_type": "code",
   "execution_count": 40,
   "id": "606f8c72",
   "metadata": {
    "ExecuteTime": {
     "end_time": "2023-09-10T20:53:57.581813Z",
     "start_time": "2023-09-10T20:53:57.568791Z"
    }
   },
   "outputs": [],
   "source": [
    "le_conf_matrix=confusion_matrix(y_test, le_ypred)"
   ]
  },
  {
   "cell_type": "code",
   "execution_count": 41,
   "id": "0d78b4bc",
   "metadata": {
    "ExecuteTime": {
     "end_time": "2023-09-10T20:54:04.797986Z",
     "start_time": "2023-09-10T20:54:04.781267Z"
    }
   },
   "outputs": [],
   "source": [
    "def breakdown_matrix(conf_matrix):\n",
    "    class_labels, class_counts_actual = np.unique(y_test, return_counts=True)\n",
    "    class_counts_predicted = np.sum(conf_matrix, axis=1)\n",
    "    print(\"\\nClass Distribution in Actual Test Data:\")\n",
    "    \n",
    "    for label, count_actual, count_predicted in zip(class_labels, class_counts_actual, class_counts_predicted):\n",
    "        print(f\"Class {label}: {count_actual} instances, Predicted {count_predicted} instances\")\n",
    "\n",
    "# Print a breakdown of the confusion matrix\n",
    "    class_labels=['irony','regular','sarcasm']\n",
    "    for i in range(len(class_labels)):\n",
    "        print(f\"\\nClass {class_labels[i]} (Actual):\")\n",
    "        for j in range(len(class_labels)):\n",
    "            if i == j:\n",
    "                true_positives = conf_matrix[i, j]\n",
    "                print(f\"  Predicted as Class {class_labels[i]}: {true_positives} (True Positives)\")\n",
    "            else:\n",
    "                false_positives = conf_matrix[i, j]\n",
    "                false_negatives = np.sum(conf_matrix[j, :]) - conf_matrix[j, j]\n",
    "                print(f\"  Predicted as Class {class_labels[i]} but Actual Class {class_labels[j]}: {false_positives} (False Positives)\")\n",
    "                print(f\"  Predicted as NOT Class {class_labels[i]} but Actual Class {class_labels[j]}: {false_negatives} (False Negatives)\")\n",
    "\n",
    "        total_actual = class_counts_actual[i]\n",
    "        total_predicted = class_counts_predicted[i]\n",
    "        print(f\"  Total instances: {total_actual} (Actual), {total_predicted} (Predicted)\")\n"
   ]
  },
  {
   "cell_type": "markdown",
   "id": "6f318e80",
   "metadata": {},
   "source": [
    "#### Logistic Regression Confusion Matrix Breakdown"
   ]
  },
  {
   "cell_type": "code",
   "execution_count": 42,
   "id": "16640c78",
   "metadata": {
    "ExecuteTime": {
     "end_time": "2023-09-10T20:54:10.713005Z",
     "start_time": "2023-09-10T20:54:10.699986Z"
    }
   },
   "outputs": [
    {
     "name": "stdout",
     "output_type": "stream",
     "text": [
      "\n",
      "Class Distribution in Actual Test Data:\n",
      "Class 0: 748 instances, Predicted 748 instances\n",
      "Class 1: 464 instances, Predicted 464 instances\n",
      "Class 2: 788 instances, Predicted 788 instances\n",
      "\n",
      "Class irony (Actual):\n",
      "  Predicted as Class irony: 680 (True Positives)\n",
      "  Predicted as Class irony but Actual Class regular: 2 (False Positives)\n",
      "  Predicted as NOT Class irony but Actual Class regular: 0 (False Negatives)\n",
      "  Predicted as Class irony but Actual Class sarcasm: 66 (False Positives)\n",
      "  Predicted as NOT Class irony but Actual Class sarcasm: 89 (False Negatives)\n",
      "  Total instances: 748 (Actual), 748 (Predicted)\n",
      "\n",
      "Class regular (Actual):\n",
      "  Predicted as Class regular but Actual Class irony: 0 (False Positives)\n",
      "  Predicted as NOT Class regular but Actual Class irony: 68 (False Negatives)\n",
      "  Predicted as Class regular: 464 (True Positives)\n",
      "  Predicted as Class regular but Actual Class sarcasm: 0 (False Positives)\n",
      "  Predicted as NOT Class regular but Actual Class sarcasm: 89 (False Negatives)\n",
      "  Total instances: 464 (Actual), 464 (Predicted)\n",
      "\n",
      "Class sarcasm (Actual):\n",
      "  Predicted as Class sarcasm but Actual Class irony: 87 (False Positives)\n",
      "  Predicted as NOT Class sarcasm but Actual Class irony: 68 (False Negatives)\n",
      "  Predicted as Class sarcasm but Actual Class regular: 2 (False Positives)\n",
      "  Predicted as NOT Class sarcasm but Actual Class regular: 0 (False Negatives)\n",
      "  Predicted as Class sarcasm: 699 (True Positives)\n",
      "  Total instances: 788 (Actual), 788 (Predicted)\n"
     ]
    }
   ],
   "source": [
    "breakdown_matrix(le_conf_matrix)"
   ]
  },
  {
   "cell_type": "code",
   "execution_count": 43,
   "id": "6e75a530",
   "metadata": {
    "ExecuteTime": {
     "end_time": "2023-09-10T20:57:34.716058Z",
     "start_time": "2023-09-10T20:54:38.147931Z"
    }
   },
   "outputs": [],
   "source": [
    "from sklearn.ensemble import RandomForestClassifier\n",
    "rf_classifier = RandomForestClassifier(n_estimators=100, random_state=42)\n",
    "\n",
    "# Fit the model on the training data\n",
    "rf_classifier.fit(X_train.toarray(), y_train)\n",
    "\n",
    "# Make predictions on the testing data\n",
    "rf_ypred = rf_classifier.predict(X_test.toarray())"
   ]
  },
  {
   "cell_type": "code",
   "execution_count": 44,
   "id": "ec48b215",
   "metadata": {
    "ExecuteTime": {
     "end_time": "2023-09-10T20:57:43.732157Z",
     "start_time": "2023-09-10T20:57:43.714167Z"
    }
   },
   "outputs": [
    {
     "name": "stdout",
     "output_type": "stream",
     "text": [
      "Accuracy: 0.9215\n"
     ]
    }
   ],
   "source": [
    "# Calculate accuracy\n",
    "rf_accuracy = accuracy_score(y_test, rf_ypred)\n",
    "print(\"Accuracy:\", accuracy)"
   ]
  },
  {
   "cell_type": "code",
   "execution_count": 45,
   "id": "1c405048",
   "metadata": {
    "ExecuteTime": {
     "end_time": "2023-09-10T20:57:55.466369Z",
     "start_time": "2023-09-10T20:57:55.442179Z"
    }
   },
   "outputs": [
    {
     "name": "stdout",
     "output_type": "stream",
     "text": [
      "Classification_report:\n",
      "               precision    recall  f1-score   support\n",
      "\n",
      "           0       0.89      0.91      0.90       748\n",
      "           1       0.99      1.00      0.99       464\n",
      "           2       0.92      0.89      0.90       788\n",
      "\n",
      "    accuracy                           0.92      2000\n",
      "   macro avg       0.93      0.93      0.93      2000\n",
      "weighted avg       0.92      0.92      0.92      2000\n",
      "\n",
      "Confusion_Matrix:\n",
      " [[678   5  65]\n",
      " [  0 464   0]\n",
      " [ 85   2 701]]\n"
     ]
    }
   ],
   "source": [
    "from sklearn.metrics import classification_report,confusion_matrix\n",
    "print('Classification_report:\\n',classification_report(y_test, rf_ypred))\n",
    "print('Confusion_Matrix:\\n',confusion_matrix(y_test, rf_ypred))"
   ]
  },
  {
   "cell_type": "markdown",
   "id": "3bc8c2ae",
   "metadata": {},
   "source": [
    "#### RandomForest Confusion Matrix Breakdown"
   ]
  },
  {
   "cell_type": "code",
   "execution_count": 46,
   "id": "9c547817",
   "metadata": {
    "ExecuteTime": {
     "end_time": "2023-09-10T20:58:49.734214Z",
     "start_time": "2023-09-10T20:58:49.721138Z"
    }
   },
   "outputs": [
    {
     "name": "stdout",
     "output_type": "stream",
     "text": [
      "\n",
      "Class Distribution in Actual Test Data:\n",
      "Class 0: 748 instances, Predicted 748 instances\n",
      "Class 1: 464 instances, Predicted 464 instances\n",
      "Class 2: 788 instances, Predicted 788 instances\n",
      "\n",
      "Class irony (Actual):\n",
      "  Predicted as Class irony: 678 (True Positives)\n",
      "  Predicted as Class irony but Actual Class regular: 5 (False Positives)\n",
      "  Predicted as NOT Class irony but Actual Class regular: 0 (False Negatives)\n",
      "  Predicted as Class irony but Actual Class sarcasm: 65 (False Positives)\n",
      "  Predicted as NOT Class irony but Actual Class sarcasm: 87 (False Negatives)\n",
      "  Total instances: 748 (Actual), 748 (Predicted)\n",
      "\n",
      "Class regular (Actual):\n",
      "  Predicted as Class regular but Actual Class irony: 0 (False Positives)\n",
      "  Predicted as NOT Class regular but Actual Class irony: 70 (False Negatives)\n",
      "  Predicted as Class regular: 464 (True Positives)\n",
      "  Predicted as Class regular but Actual Class sarcasm: 0 (False Positives)\n",
      "  Predicted as NOT Class regular but Actual Class sarcasm: 87 (False Negatives)\n",
      "  Total instances: 464 (Actual), 464 (Predicted)\n",
      "\n",
      "Class sarcasm (Actual):\n",
      "  Predicted as Class sarcasm but Actual Class irony: 85 (False Positives)\n",
      "  Predicted as NOT Class sarcasm but Actual Class irony: 70 (False Negatives)\n",
      "  Predicted as Class sarcasm but Actual Class regular: 2 (False Positives)\n",
      "  Predicted as NOT Class sarcasm but Actual Class regular: 0 (False Negatives)\n",
      "  Predicted as Class sarcasm: 701 (True Positives)\n",
      "  Total instances: 788 (Actual), 788 (Predicted)\n"
     ]
    }
   ],
   "source": [
    "rf_conf_matrix=confusion_matrix(y_test, rf_ypred)\n",
    "breakdown_matrix(rf_conf_matrix)"
   ]
  },
  {
   "cell_type": "code",
   "execution_count": 47,
   "id": "8b3abdb5",
   "metadata": {
    "ExecuteTime": {
     "end_time": "2023-09-10T20:59:00.881585Z",
     "start_time": "2023-09-10T20:59:00.466878Z"
    }
   },
   "outputs": [
    {
     "data": {
      "image/png": "[encoded data removed]",
      "text/plain": [
       "<Figure size 1500x500 with 4 Axes>"
      ]
     },
     "metadata": {},
     "output_type": "display_data"
    }
   ],
   "source": [
    "plt.figure(figsize=(15, 5))\n",
    "class_labels=['irony','regular','sarcasm']\n",
    "plt.subplot(1, 3, 1)\n",
    "sns.heatmap(le_conf_matrix, annot=True, fmt=\"d\", cmap=\"Blues\", xticklabels=class_labels, yticklabels=class_labels)\n",
    "plt.title(\"Logistic Regression\")\n",
    "\n",
    "plt.subplot(1, 3, 2)\n",
    "sns.heatmap(rf_conf_matrix, annot=True, fmt=\"d\", cmap=\"Blues\", xticklabels=class_labels, yticklabels=class_labels)\n",
    "plt.title(\"RandomForest\")\n",
    "\n",
    "plt.tight_layout()\n",
    "plt.show()\n"
   ]
  },
  {
   "cell_type": "code",
   "execution_count": 48,
   "id": "740b736b",
   "metadata": {
    "ExecuteTime": {
     "end_time": "2023-09-10T21:02:12.055050Z",
     "start_time": "2023-09-10T21:02:12.040694Z"
    }
   },
   "outputs": [],
   "source": [
    "import pickle\n",
    "with open(r'C:\\Users\\Rahul\\Desktop\\DS_Project\\lg_model.pkl', 'wb') as model_file:\n",
    "    pickle.dump(le, model_file)"
   ]
  },
  {
   "cell_type": "code",
   "execution_count": 49,
   "id": "5c995cc4",
   "metadata": {
    "ExecuteTime": {
     "end_time": "2023-09-10T21:02:14.658107Z",
     "start_time": "2023-09-10T21:02:14.637019Z"
    }
   },
   "outputs": [],
   "source": [
    "#from sklearn.externals import joblib\n",
    "with open(r'C:\\Users\\Rahul\\Desktop\\DS_Project\\tfidf_vectorizer.pkl', 'wb') as vectorizer_file:\n",
    "    #joblib.dump(tfidf_vectorizer, 'tfidf_vectorizer.pkl')\n",
    "    pickle.dump(tfidf_vectorizer, vectorizer_file)\n",
    "    "
   ]
  }
 ],
 "metadata": {
  "kernelspec": {
   "display_name": "Python 3 (ipykernel)",
   "language": "python",
   "name": "python3"
  },
  "language_info": {
   "codemirror_mode": {
    "name": "ipython",
    "version": 3
   },
   "file_extension": ".py",
   "mimetype": "text/x-python",
   "name": "python",
   "nbconvert_exporter": "python",
   "pygments_lexer": "ipython3",
   "version": "3.9.13"
  }
 },
 "nbformat": 4,
 "nbformat_minor": 5
}
